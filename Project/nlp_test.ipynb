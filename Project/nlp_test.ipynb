{
 "cells": [
  {
   "cell_type": "markdown",
   "metadata": {},
   "source": [
    "# Loading Pre-Traing LLM model"
   ]
  },
  {
   "cell_type": "code",
   "execution_count": 1,
   "metadata": {},
   "outputs": [
    {
     "data": {
      "text/plain": [
       "True"
      ]
     },
     "execution_count": 1,
     "metadata": {},
     "output_type": "execute_result"
    }
   ],
   "source": [
    "import os\n",
    "os.path.exists('../_results')"
   ]
  },
  {
   "cell_type": "code",
   "execution_count": 2,
   "metadata": {},
   "outputs": [
    {
     "data": {
      "text/plain": [
       "BertForQuestionAnswering(\n",
       "  (bert): BertModel(\n",
       "    (embeddings): BertEmbeddings(\n",
       "      (word_embeddings): Embedding(30522, 768, padding_idx=0)\n",
       "      (position_embeddings): Embedding(512, 768)\n",
       "      (token_type_embeddings): Embedding(2, 768)\n",
       "      (LayerNorm): LayerNorm((768,), eps=1e-12, elementwise_affine=True)\n",
       "      (dropout): Dropout(p=0.1, inplace=False)\n",
       "    )\n",
       "    (encoder): BertEncoder(\n",
       "      (layer): ModuleList(\n",
       "        (0-11): 12 x BertLayer(\n",
       "          (attention): BertAttention(\n",
       "            (self): BertSdpaSelfAttention(\n",
       "              (query): Linear(in_features=768, out_features=768, bias=True)\n",
       "              (key): Linear(in_features=768, out_features=768, bias=True)\n",
       "              (value): Linear(in_features=768, out_features=768, bias=True)\n",
       "              (dropout): Dropout(p=0.1, inplace=False)\n",
       "            )\n",
       "            (output): BertSelfOutput(\n",
       "              (dense): Linear(in_features=768, out_features=768, bias=True)\n",
       "              (LayerNorm): LayerNorm((768,), eps=1e-12, elementwise_affine=True)\n",
       "              (dropout): Dropout(p=0.1, inplace=False)\n",
       "            )\n",
       "          )\n",
       "          (intermediate): BertIntermediate(\n",
       "            (dense): Linear(in_features=768, out_features=3072, bias=True)\n",
       "            (intermediate_act_fn): GELUActivation()\n",
       "          )\n",
       "          (output): BertOutput(\n",
       "            (dense): Linear(in_features=3072, out_features=768, bias=True)\n",
       "            (LayerNorm): LayerNorm((768,), eps=1e-12, elementwise_affine=True)\n",
       "            (dropout): Dropout(p=0.1, inplace=False)\n",
       "          )\n",
       "        )\n",
       "      )\n",
       "    )\n",
       "  )\n",
       "  (qa_outputs): Linear(in_features=768, out_features=2, bias=True)\n",
       ")"
      ]
     },
     "execution_count": 2,
     "metadata": {},
     "output_type": "execute_result"
    }
   ],
   "source": [
    "from transformers import BertForQuestionAnswering, BertTokenizerFast\n",
    "import torch\n",
    "\n",
    "# Load the trained model and tokenizer\n",
    "model = BertForQuestionAnswering.from_pretrained(pretrained_model_name_or_path=\"D:\\_results_7\\checkpoint-75\")\n",
    "tokenizer = BertTokenizerFast.from_pretrained(pretrained_model_name_or_path=\"D:\\_results_7\\checkpoint-75\")\n",
    "\n",
    "device = torch.device('cuda') if torch.cuda.is_available() else torch.device('cpu')\n",
    "model.to(device)\n",
    "model.eval()\n"
   ]
  },
  {
   "cell_type": "code",
   "execution_count": 3,
   "metadata": {},
   "outputs": [],
   "source": [
    "def predict_answer(question, context):\n",
    "    # Tokenize the input question and context\n",
    "    inputs = tokenizer.encode_plus(question, context, add_special_tokens=True, return_tensors='pt')\n",
    "\n",
    "    input_ids = inputs['input_ids'].to(device)\n",
    "    attention_mask = inputs['attention_mask'].to(device)\n",
    "\n",
    "    # Make prediction\n",
    "    with torch.no_grad():\n",
    "        outputs = model(input_ids=input_ids, attention_mask=attention_mask)\n",
    "        \n",
    "    # Get the start and end logits (the raw outputs)\n",
    "    start_logits, end_logits = outputs.start_logits, outputs.end_logits\n",
    "\n",
    "    # Get the most likely start and end positions\n",
    "    start_pos = torch.argmax(start_logits, dim=1)\n",
    "    end_pos = torch.argmax(end_logits, dim=1)\n",
    "\n",
    "    # Convert the token positions to the actual answer text\n",
    "    answer_tokens = input_ids[0][start_pos:end_pos+1]\n",
    "    answer = tokenizer.decode(answer_tokens)\n",
    "\n",
    "    return answer\n"
   ]
  },
  {
   "cell_type": "code",
   "execution_count": 4,
   "metadata": {},
   "outputs": [
    {
     "name": "stdout",
     "output_type": "stream",
     "text": [
      "Question: I have a microscopic image that has ovel with a thick, bumpy shell. What parasitic egg is it?\n",
      "Context: The eggs of Ascaris lumbricoides, Capillaria philippinensis, Enterobius vermicularis, and Fasciolopsis buski have distinct microscopic features and cause varying symptoms. Ascaris lumbricoides eggs are oval with a thick, bumpy shell, and infections can lead to abdominal pain or respiratory symptoms, treatable with albendazole. Capillaria philippinensis eggs are peanut-shaped with flattened polar plugs, causing diarrhea and weight loss, also treated with albendazole. Enterobius vermicularis eggs are oval and clear, primarily causing perianal itching, treatable with mebendazole. Fasciolopsis buski eggs are large, oval, and have an operculum, leading to abdominal pain and diarrhea, with praziquantel as the treatment. Hygiene and proper sanitation are key to preventing these infections.\n",
      "Predicted Answer: \n"
     ]
    }
   ],
   "source": [
    "# Example question and context\n",
    "question = \"I have a microscopic image that has ovel with a thick, bumpy shell. What parasitic egg is it?\"\n",
    "context = \"The eggs of Ascaris lumbricoides, Capillaria philippinensis, Enterobius vermicularis, and Fasciolopsis buski have distinct microscopic features and cause varying symptoms. Ascaris lumbricoides eggs are oval with a thick, bumpy shell, and infections can lead to abdominal pain or respiratory symptoms, treatable with albendazole. Capillaria philippinensis eggs are peanut-shaped with flattened polar plugs, causing diarrhea and weight loss, also treated with albendazole. Enterobius vermicularis eggs are oval and clear, primarily causing perianal itching, treatable with mebendazole. Fasciolopsis buski eggs are large, oval, and have an operculum, leading to abdominal pain and diarrhea, with praziquantel as the treatment. Hygiene and proper sanitation are key to preventing these infections.\"\n",
    "\n",
    "# Get the model's predicted answer\n",
    "predicted_answer = predict_answer(question, context)\n",
    "\n",
    "print(f\"Question: {question}\")\n",
    "print(f\"Context: {context}\")\n",
    "print(f\"Predicted Answer: {predicted_answer}\")\n"
   ]
  },
  {
   "cell_type": "code",
   "execution_count": null,
   "metadata": {},
   "outputs": [],
   "source": []
  }
 ],
 "metadata": {
  "kernelspec": {
   "display_name": "mindspore24",
   "language": "python",
   "name": "python3"
  },
  "language_info": {
   "codemirror_mode": {
    "name": "ipython",
    "version": 3
   },
   "file_extension": ".py",
   "mimetype": "text/x-python",
   "name": "python",
   "nbconvert_exporter": "python",
   "pygments_lexer": "ipython3",
   "version": "3.11.7"
  }
 },
 "nbformat": 4,
 "nbformat_minor": 2
}
