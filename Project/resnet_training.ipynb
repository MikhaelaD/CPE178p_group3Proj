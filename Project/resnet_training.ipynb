{
 "cells": [
  {
   "cell_type": "code",
   "execution_count": 1,
   "metadata": {},
   "outputs": [],
   "source": [
    "import mindspore.dataset as ds\n",
    "import mindspore.dataset.vision.c_transforms as CV\n",
    "from mindspore import dtype as mstype\n",
    "\n",
    "train_data_path = 'flower_photos_train'\n",
    "val_data_path = 'flower_photos_test'\n",
    "\n",
    "def create_dataset(data_path, batch_size=18, training=True):\n",
    "    \"\"\"Define the dataset.\"\"\"\n",
    "    data_set = ds.ImageFolderDataset(data_path, num_parallel_workers=8, shuffle=True,\n",
    "                                     class_indexing={'daisy': 0, 'dandelion': 1, 'roses': 2, 'sunflowers': 3, 'tulips': 4})\n",
    "    \n",
    "    # Perform image enhancement on the dataset.\n",
    "    image_size = 224\n",
    "    mean = [0.485 * 255, 0.456 * 255, 0.406 * 255]\n",
    "    std = [0.229 * 255, 0.224 * 255, 0.225 * 255]\n",
    "    if training:\n",
    "        trans = [\n",
    "            CV.RandomCropDecodeResize(image_size, scale=(0.08, 1.0), ratio=(0.75, 1.333)),\n",
    "            CV.RandomHorizontalFlip(prob=0.5),\n",
    "            CV.Normalize(mean=mean, std=std),\n",
    "            CV.HWC2CHW() \n",
    "        ] \n",
    "    else:\n",
    "        trans = [\n",
    "            CV.Decode(),\n",
    "            CV.Resize(256), \n",
    "            CV.CenterCrop(image_size),\n",
    "            CV.HWC2CHW() \n",
    "        ]\n",
    "\n",
    "    # Perform the data map, batch, and repeat operations.\n",
    "    data_set = data_set.map(operations=trans, input_columns=\"image\", num_parallel_workers=8)\n",
    "\n",
    "    # Set the value of the batch_size. Discard the samples if the number of samples last fetched is less than the value of batch_size.\n",
    "    data_set = data_set.batch(batch_size, drop_remainder=True)\n",
    "    return data_set\n",
    "\n",
    "dataset_train = create_dataset(train_data_path)\n",
    "dataset_val = create_dataset(val_data_path)"
   ]
  }
 ],
 "metadata": {
  "kernelspec": {
   "display_name": "mindspore",
   "language": "python",
   "name": "python3"
  },
  "language_info": {
   "codemirror_mode": {
    "name": "ipython",
    "version": 3
   },
   "file_extension": ".py",
   "mimetype": "text/x-python",
   "name": "python",
   "nbconvert_exporter": "python",
   "pygments_lexer": "ipython3",
   "version": "3.9.13"
  }
 },
 "nbformat": 4,
 "nbformat_minor": 2
}
